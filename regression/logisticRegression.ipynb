{
 "cells": [
  {
   "cell_type": "code",
   "execution_count": 1,
   "metadata": {},
   "outputs": [
    {
     "output_type": "execute_result",
     "data": {
      "text/plain": "'e:\\\\PythonDevelopment\\\\logisticRegression\\\\regression'"
     },
     "metadata": {},
     "execution_count": 1
    }
   ],
   "source": [
    "import numpy as np\n",
    "import pandas as pd\n",
    "import statsmodels.api as sm\n",
    "import matplotlib.pyplot as plt\n",
    "import seaborn as sns\n",
    "import os\n",
    "sns.set()\n",
    "os.getcwd()"
   ]
  },
  {
   "cell_type": "code",
   "execution_count": 2,
   "metadata": {},
   "outputs": [
    {
     "output_type": "execute_result",
     "data": {
      "text/plain": "     Points  Admitted\n0     83.12         1\n1     79.36         1\n2     74.80         1\n3     73.36         1\n4     13.96         1\n..      ...       ...\n370   33.28         1\n371   89.92         1\n372   73.84         1\n373   73.76         1\n374   54.40         1\n\n[375 rows x 2 columns]",
      "text/html": "<div>\n<style scoped>\n    .dataframe tbody tr th:only-of-type {\n        vertical-align: middle;\n    }\n\n    .dataframe tbody tr th {\n        vertical-align: top;\n    }\n\n    .dataframe thead th {\n        text-align: right;\n    }\n</style>\n<table border=\"1\" class=\"dataframe\">\n  <thead>\n    <tr style=\"text-align: right;\">\n      <th></th>\n      <th>Points</th>\n      <th>Admitted</th>\n    </tr>\n  </thead>\n  <tbody>\n    <tr>\n      <th>0</th>\n      <td>83.12</td>\n      <td>1</td>\n    </tr>\n    <tr>\n      <th>1</th>\n      <td>79.36</td>\n      <td>1</td>\n    </tr>\n    <tr>\n      <th>2</th>\n      <td>74.80</td>\n      <td>1</td>\n    </tr>\n    <tr>\n      <th>3</th>\n      <td>73.36</td>\n      <td>1</td>\n    </tr>\n    <tr>\n      <th>4</th>\n      <td>13.96</td>\n      <td>1</td>\n    </tr>\n    <tr>\n      <th>...</th>\n      <td>...</td>\n      <td>...</td>\n    </tr>\n    <tr>\n      <th>370</th>\n      <td>33.28</td>\n      <td>1</td>\n    </tr>\n    <tr>\n      <th>371</th>\n      <td>89.92</td>\n      <td>1</td>\n    </tr>\n    <tr>\n      <th>372</th>\n      <td>73.84</td>\n      <td>1</td>\n    </tr>\n    <tr>\n      <th>373</th>\n      <td>73.76</td>\n      <td>1</td>\n    </tr>\n    <tr>\n      <th>374</th>\n      <td>54.40</td>\n      <td>1</td>\n    </tr>\n  </tbody>\n</table>\n<p>375 rows × 2 columns</p>\n</div>"
     },
     "metadata": {},
     "execution_count": 2
    }
   ],
   "source": [
    "rawDataPass = pd.read_excel('E:\\\\PythonDevelopment\\\\logisticRegression\\\\source\\\\convertedData\\\\rawDataCleaned\\\\XLSX/Passed.xlsx')\n",
    "\n",
    "rawDataPass['Admitted'] = 1\n",
    "rawDataPass"
   ]
  },
  {
   "cell_type": "code",
   "execution_count": 3,
   "metadata": {
    "tags": []
   },
   "outputs": [
    {
     "output_type": "execute_result",
     "data": {
      "text/plain": "     Points  Admitted\n0     47.20         0\n1     95.60         0\n2     94.64         0\n3     91.04         0\n4     86.04         0\n..      ...       ...\n175   72.00         0\n176   67.80         0\n177   65.84         0\n178   59.88         0\n179   43.28         0\n\n[180 rows x 2 columns]",
      "text/html": "<div>\n<style scoped>\n    .dataframe tbody tr th:only-of-type {\n        vertical-align: middle;\n    }\n\n    .dataframe tbody tr th {\n        vertical-align: top;\n    }\n\n    .dataframe thead th {\n        text-align: right;\n    }\n</style>\n<table border=\"1\" class=\"dataframe\">\n  <thead>\n    <tr style=\"text-align: right;\">\n      <th></th>\n      <th>Points</th>\n      <th>Admitted</th>\n    </tr>\n  </thead>\n  <tbody>\n    <tr>\n      <th>0</th>\n      <td>47.20</td>\n      <td>0</td>\n    </tr>\n    <tr>\n      <th>1</th>\n      <td>95.60</td>\n      <td>0</td>\n    </tr>\n    <tr>\n      <th>2</th>\n      <td>94.64</td>\n      <td>0</td>\n    </tr>\n    <tr>\n      <th>3</th>\n      <td>91.04</td>\n      <td>0</td>\n    </tr>\n    <tr>\n      <th>4</th>\n      <td>86.04</td>\n      <td>0</td>\n    </tr>\n    <tr>\n      <th>...</th>\n      <td>...</td>\n      <td>...</td>\n    </tr>\n    <tr>\n      <th>175</th>\n      <td>72.00</td>\n      <td>0</td>\n    </tr>\n    <tr>\n      <th>176</th>\n      <td>67.80</td>\n      <td>0</td>\n    </tr>\n    <tr>\n      <th>177</th>\n      <td>65.84</td>\n      <td>0</td>\n    </tr>\n    <tr>\n      <th>178</th>\n      <td>59.88</td>\n      <td>0</td>\n    </tr>\n    <tr>\n      <th>179</th>\n      <td>43.28</td>\n      <td>0</td>\n    </tr>\n  </tbody>\n</table>\n<p>180 rows × 2 columns</p>\n</div>"
     },
     "metadata": {},
     "execution_count": 3
    }
   ],
   "source": [
    "rawDataFail = pd.read_excel('E:\\\\PythonDevelopment\\\\logisticRegression\\\\source\\\\convertedData\\\\rawDataCleaned\\\\XLSX/Failed.xlsx')\n",
    "\n",
    "rawDataFail['Admitted'] = 0\n",
    "rawDataFail"
   ]
  },
  {
   "cell_type": "code",
   "execution_count": 4,
   "metadata": {},
   "outputs": [
    {
     "output_type": "execute_result",
     "data": {
      "text/plain": "     Points  Admitted\n0     83.12         1\n1     79.36         1\n2     74.80         1\n3     73.36         1\n4     13.96         1\n..      ...       ...\n175   72.00         0\n176   67.80         0\n177   65.84         0\n178   59.88         0\n179   43.28         0\n\n[555 rows x 2 columns]",
      "text/html": "<div>\n<style scoped>\n    .dataframe tbody tr th:only-of-type {\n        vertical-align: middle;\n    }\n\n    .dataframe tbody tr th {\n        vertical-align: top;\n    }\n\n    .dataframe thead th {\n        text-align: right;\n    }\n</style>\n<table border=\"1\" class=\"dataframe\">\n  <thead>\n    <tr style=\"text-align: right;\">\n      <th></th>\n      <th>Points</th>\n      <th>Admitted</th>\n    </tr>\n  </thead>\n  <tbody>\n    <tr>\n      <th>0</th>\n      <td>83.12</td>\n      <td>1</td>\n    </tr>\n    <tr>\n      <th>1</th>\n      <td>79.36</td>\n      <td>1</td>\n    </tr>\n    <tr>\n      <th>2</th>\n      <td>74.80</td>\n      <td>1</td>\n    </tr>\n    <tr>\n      <th>3</th>\n      <td>73.36</td>\n      <td>1</td>\n    </tr>\n    <tr>\n      <th>4</th>\n      <td>13.96</td>\n      <td>1</td>\n    </tr>\n    <tr>\n      <th>...</th>\n      <td>...</td>\n      <td>...</td>\n    </tr>\n    <tr>\n      <th>175</th>\n      <td>72.00</td>\n      <td>0</td>\n    </tr>\n    <tr>\n      <th>176</th>\n      <td>67.80</td>\n      <td>0</td>\n    </tr>\n    <tr>\n      <th>177</th>\n      <td>65.84</td>\n      <td>0</td>\n    </tr>\n    <tr>\n      <th>178</th>\n      <td>59.88</td>\n      <td>0</td>\n    </tr>\n    <tr>\n      <th>179</th>\n      <td>43.28</td>\n      <td>0</td>\n    </tr>\n  </tbody>\n</table>\n<p>555 rows × 2 columns</p>\n</div>"
     },
     "metadata": {},
     "execution_count": 4
    }
   ],
   "source": [
    "data = pd.concat([rawDataPass, rawDataFail])\n",
    "data"
   ]
  },
  {
   "cell_type": "markdown",
   "metadata": {},
   "source": [
    "#### Building the regression "
   ]
  },
  {
   "cell_type": "code",
   "execution_count": 5,
   "metadata": {},
   "outputs": [],
   "source": [
    "y = data['Admitted'] # dependent variable\n",
    "x1 = data['Points'] # independent variable"
   ]
  },
  {
   "cell_type": "code",
   "execution_count": 6,
   "metadata": {
    "tags": []
   },
   "outputs": [
    {
     "output_type": "stream",
     "name": "stdout",
     "text": "Optimization terminated successfully.\n         Current function value: 0.555184\n         Iterations 6\n"
    }
   ],
   "source": [
    "x = sm.add_constant(x1)\n",
    "regLog = sm.Logit(y,x)\n",
    "resultsLog = regLog.fit()"
   ]
  },
  {
   "cell_type": "code",
   "execution_count": 7,
   "metadata": {},
   "outputs": [
    {
     "output_type": "execute_result",
     "data": {
      "text/plain": "<class 'statsmodels.iolib.summary.Summary'>\n\"\"\"\n                           Logit Regression Results                           \n==============================================================================\nDep. Variable:               Admitted   No. Observations:                  555\nModel:                          Logit   Df Residuals:                      553\nMethod:                           MLE   Df Model:                            1\nDate:                Sun, 19 Jul 2020   Pseudo R-squ.:                  0.1189\nTime:                        00:30:49   Log-Likelihood:                -308.13\nconverged:                       True   LL-Null:                       -349.70\nCovariance Type:            nonrobust   LLR p-value:                 7.640e-20\n==============================================================================\n                 coef    std err          z      P>|z|      [0.025      0.975]\n------------------------------------------------------------------------------\nconst         -3.0742      0.457     -6.728      0.000      -3.970      -2.179\nPoints         0.0558      0.007      8.372      0.000       0.043       0.069\n==============================================================================\n\"\"\"",
      "text/html": "<table class=\"simpletable\">\n<caption>Logit Regression Results</caption>\n<tr>\n  <th>Dep. Variable:</th>       <td>Admitted</td>     <th>  No. Observations:  </th>  <td>   555</td>  \n</tr>\n<tr>\n  <th>Model:</th>                 <td>Logit</td>      <th>  Df Residuals:      </th>  <td>   553</td>  \n</tr>\n<tr>\n  <th>Method:</th>                 <td>MLE</td>       <th>  Df Model:          </th>  <td>     1</td>  \n</tr>\n<tr>\n  <th>Date:</th>            <td>Sun, 19 Jul 2020</td> <th>  Pseudo R-squ.:     </th>  <td>0.1189</td>  \n</tr>\n<tr>\n  <th>Time:</th>                <td>00:30:49</td>     <th>  Log-Likelihood:    </th> <td> -308.13</td> \n</tr>\n<tr>\n  <th>converged:</th>             <td>True</td>       <th>  LL-Null:           </th> <td> -349.70</td> \n</tr>\n<tr>\n  <th>Covariance Type:</th>     <td>nonrobust</td>    <th>  LLR p-value:       </th> <td>7.640e-20</td>\n</tr>\n</table>\n<table class=\"simpletable\">\n<tr>\n     <td></td>       <th>coef</th>     <th>std err</th>      <th>z</th>      <th>P>|z|</th>  <th>[0.025</th>    <th>0.975]</th>  \n</tr>\n<tr>\n  <th>const</th>  <td>   -3.0742</td> <td>    0.457</td> <td>   -6.728</td> <td> 0.000</td> <td>   -3.970</td> <td>   -2.179</td>\n</tr>\n<tr>\n  <th>Points</th> <td>    0.0558</td> <td>    0.007</td> <td>    8.372</td> <td> 0.000</td> <td>    0.043</td> <td>    0.069</td>\n</tr>\n</table>"
     },
     "metadata": {},
     "execution_count": 7
    }
   ],
   "source": [
    "resultsLog.summary()"
   ]
  },
  {
   "cell_type": "markdown",
   "metadata": {},
   "source": [
    "#### Predicting"
   ]
  },
  {
   "cell_type": "code",
   "execution_count": 8,
   "metadata": {},
   "outputs": [
    {
     "output_type": "execute_result",
     "data": {
      "text/plain": "array([0.82640484, 0.7942458 , 0.7495956 , 0.73422509, 0.09146907,\n       0.94160372, 0.91992489, 0.85109856, 0.83640627, 0.74027341,\n       0.88694873, 0.87232424, 0.86855162, 0.86855162, 0.8561148 ,\n       0.85109856, 0.85081569, 0.85081569, 0.84996443, 0.8468089 ,\n       0.84593891, 0.84447997, 0.84271438, 0.84271438, 0.84241853,\n       0.83943516, 0.8333316 , 0.82640484, 0.82608464, 0.82155293,\n       0.81659551, 0.81458286, 0.81221326, 0.81119061, 0.80947671,\n       0.80947671, 0.80844268, 0.80705731, 0.80566433, 0.8039124 ,\n       0.80214855, 0.7975067 , 0.79642403, 0.79497379, 0.7942458 ,\n       0.79351589, 0.78983766, 0.775424  , 0.75746519, 0.7508494 ,\n       0.7495956 , 0.74917673, 0.74113012, 0.73160561, 0.73160561,\n       0.72051681, 0.71418605, 0.71281832, 0.71007117, 0.70961181,\n       0.70592145, 0.7031358 , 0.67495615, 0.66955085, 0.66658341,\n       0.65910718, 0.65003036, 0.64748927, 0.64391771, 0.64289429,\n       0.63621062, 0.63207111, 0.61320903, 0.60417851, 0.59076987,\n       0.54593619, 0.54538327, 0.51093714, 0.4061266 , 0.94160372,\n       0.91256982, 0.91167598, 0.91167598, 0.91095498, 0.90708197,\n       0.90518503, 0.9018806 , 0.89724672, 0.89642131, 0.89199111,\n       0.88960467, 0.88672491, 0.88650069, 0.88559997, 0.88262952,\n       0.88076849, 0.87816795, 0.87429826, 0.87380722, 0.87331454,\n       0.87282021, 0.87132734, 0.86752973, 0.86701627, 0.86416205,\n       0.8628477 , 0.8628477 , 0.86152266, 0.85829873, 0.85390294,\n       0.85390294, 0.85334559, 0.85053238, 0.84967979, 0.84506489,\n       0.8435992 , 0.84212223, 0.84123062, 0.83973554, 0.83518191,\n       0.83425882, 0.8333316 , 0.831777  , 0.82894961, 0.82831621,\n       0.82608464, 0.82512127, 0.82285706, 0.82253173, 0.81958266,\n       0.81925264, 0.81759547, 0.8169293 , 0.81659551, 0.81659551,\n       0.81491948, 0.80740437, 0.80670978, 0.80566433, 0.80356058,\n       0.80250227, 0.80072888, 0.79822608, 0.79822608, 0.7975067 ,\n       0.79714629, 0.7967854 , 0.79461003, 0.79205034, 0.78872485,\n       0.78760774, 0.7853606 , 0.78309622, 0.78233761, 0.78119609,\n       0.78005027, 0.78005027, 0.77735997, 0.77735997, 0.77347609,\n       0.77190919, 0.77190919, 0.76954455, 0.76756094, 0.76756094,\n       0.76516494, 0.76315523, 0.76315523, 0.76153895, 0.76032177,\n       0.75950796, 0.7558225 , 0.75417229, 0.75375857, 0.75251459,\n       0.7508494 , 0.7508494 , 0.75043193, 0.7487574 , 0.74496251,\n       0.7441141 , 0.74326384, 0.74283802, 0.74155779, 0.74070199,\n       0.73726045, 0.73682819, 0.73682819, 0.73028976, 0.72941027,\n       0.72808766, 0.72808766, 0.72587432, 0.72320357, 0.7182657 ,\n       0.71645689, 0.71464109, 0.71373057, 0.71190433, 0.93169738,\n       0.91022867, 0.90708197, 0.89928481, 0.88559997, 0.88400872,\n       0.87745029, 0.87721026, 0.87672899, 0.86778583, 0.86675891,\n       0.86546577, 0.86311142, 0.86311142, 0.86231897, 0.86205396,\n       0.8607225 , 0.8607225 , 0.85775536, 0.8561148 , 0.85583985,\n       0.85194451, 0.84622935, 0.84593891, 0.84271438, 0.83913432,\n       0.83822908, 0.83518191, 0.8333316 , 0.831777  , 0.83052501,\n       0.81659551, 0.81323164, 0.81221326, 0.81050647, 0.80496499,\n       0.79965912, 0.79606219, 0.78835296, 0.78460772, 0.78043269,\n       0.77697373, 0.76954455, 0.76476394, 0.76436247, 0.76032177,\n       0.73855447, 0.73682819, 0.73291739, 0.70033497, 0.67299588,\n       0.6655913 , 0.6601087 , 0.65860589, 0.65458285, 0.64340617,\n       0.61901152, 0.59668758, 0.79369855, 0.57994385, 0.56246528,\n       0.53374806, 0.48975248, 0.4858518 , 0.46471891, 0.45972943,\n       0.4464662 , 0.42181609, 0.39861832, 0.68706751, 0.38006181,\n       0.36391192, 0.70499459, 0.32516002, 0.32467081, 0.20620556,\n       0.61162086, 0.77308508, 0.6351776 , 0.82544286, 0.82544286,\n       0.77425669, 0.77072901, 0.76275187, 0.76032177, 0.75417229,\n       0.74496251, 0.74453854, 0.73812358, 0.73812358, 0.73769224,\n       0.73726045, 0.73726045, 0.73466008, 0.73028976, 0.72896985,\n       0.72764589, 0.72096571, 0.71916747, 0.7182657 , 0.7182657 ,\n       0.71418605, 0.71418605, 0.71236154, 0.70869178, 0.70499459,\n       0.70499459, 0.70453053, 0.70033497, 0.69468827, 0.69421502,\n       0.69041436, 0.68514621, 0.68273565, 0.68080011, 0.67982999,\n       0.67544526, 0.67201347, 0.67152169, 0.67152169, 0.6641004 ,\n       0.64493981, 0.64135673, 0.63051372, 0.61479479, 0.61056076,\n       0.60896865, 0.59776057, 0.59453885, 0.58753079, 0.5869902 ,\n       0.58320025, 0.57668049, 0.57068043, 0.56081798, 0.55751939,\n       0.539294  , 0.53596752, 0.53596752, 0.53097187, 0.51817934,\n       0.50759285, 0.50424789, 0.47027104, 0.45585424, 0.44261122,\n       0.39594811, 0.55311342, 0.5520106 , 0.53430305, 0.53263783,\n       0.49030983, 0.47638683, 0.47527429, 0.47360594, 0.47138239,\n       0.45198439, 0.4453641 , 0.43656751, 0.42344876, 0.39328409,\n       0.60630999, 0.36649717, 0.3659795 , 0.35979188, 0.35722726,\n       0.3435222 , 0.32467081, 0.32125712, 0.31017582, 0.2822931 ,\n       0.22818404, 0.87429826, 0.73941485, 0.73855447, 0.48975248,\n       0.39115743, 0.90518503, 0.90049036, 0.8810025 , 0.84853678,\n       0.4061266 , 0.85528863, 0.78385293, 0.74917673, 0.73422509,\n       0.72720367, 0.6998667 , 0.68514621, 0.68128458, 0.67982999,\n       0.67544526, 0.6636027 , 0.65860589, 0.63414334, 0.56356272,\n       0.51706558, 0.4942119 , 0.4453641 , 0.41043707, 0.38691655,\n       0.33900984, 0.31834621, 0.27157574, 0.26457431, 0.25598672,\n       0.86880604, 0.85123983, 0.84824992, 0.82383024, 0.81726262,\n       0.8139082 , 0.79020763, 0.77308508, 0.76194373, 0.73422509,\n       0.72896985, 0.72720367, 0.70592145, 0.70499459, 0.6998667 ,\n       0.69610553, 0.68802577, 0.68706751, 0.68514621, 0.68128458,\n       0.68128458, 0.67544526, 0.6641004 , 0.6636027 , 0.66210744,\n       0.64289429, 0.6423821 , 0.6351776 , 0.61162086, 0.59829671,\n       0.58807117, 0.5652077 , 0.56465953, 0.56356272, 0.56026858,\n       0.55586818, 0.54150974, 0.53097187, 0.51706558, 0.51260894,\n       0.4942119 , 0.4858518 , 0.47304995, 0.45917552, 0.45308949,\n       0.45032763, 0.44812033, 0.4453641 , 0.42726478, 0.41692845,\n       0.41043707, 0.40935813, 0.39328409, 0.37221166, 0.36805202,\n       0.36494509, 0.36288001, 0.35979188, 0.35979188, 0.3556924 ,\n       0.34755708, 0.34705151, 0.31448699, 0.30731986, 0.29233947,\n       0.28683362, 0.28365067, 0.27245905, 0.24758403, 0.24140468,\n       0.23855721, 0.21623679, 0.09856187, 0.89724672, 0.88029926,\n       0.8488232 , 0.84003546, 0.82253173, 0.76636507, 0.63310784,\n       0.56246528, 0.53319299, 0.46582868, 0.46139174, 0.42562826,\n       0.41476134, 0.40290317, 0.36494509, 0.35110567, 0.31448699,\n       0.89199111, 0.88672491, 0.87331454, 0.8435992 , 0.83518191,\n       0.82285706, 0.79205034, 0.77190919, 0.76032177, 0.7487574 ,\n       0.73726045, 0.73422509, 0.35314088, 0.34201489, 0.32223053,\n       0.10015851, 0.77033467, 0.62947395, 0.62530293, 0.60790595,\n       0.60630999, 0.5470417 , 0.52597001, 0.51762248, 0.51595164,\n       0.44922373, 0.44261122, 0.41964186, 0.41151687, 0.40290317,\n       0.38480248, 0.38111335, 0.36184936, 0.33452655, 0.22661668,\n       0.21099186, 0.64493981, 0.60896865, 0.58753079, 0.539294  ,\n       0.53097187, 0.47027104, 0.45585424, 0.42562826, 0.89908262,\n       0.88627609, 0.87380722, 0.87057532, 0.82989624, 0.80947671,\n       0.76275187, 0.76194373, 0.75499833, 0.75292972, 0.73509461,\n       0.71916747, 0.66955085, 0.64493981, 0.56575571, 0.34051076])"
     },
     "metadata": {},
     "execution_count": 8
    }
   ],
   "source": [
    "resultsLog.predict()"
   ]
  },
  {
   "cell_type": "code",
   "execution_count": 9,
   "metadata": {},
   "outputs": [
    {
     "output_type": "execute_result",
     "data": {
      "text/plain": "array([1, 1, 1, 1, 1, 1, 1, 1, 1, 1, 1, 1, 1, 1, 1, 1, 1, 1, 1, 1, 1, 1,\n       1, 1, 1, 1, 1, 1, 1, 1, 1, 1, 1, 1, 1, 1, 1, 1, 1, 1, 1, 1, 1, 1,\n       1, 1, 1, 1, 1, 1, 1, 1, 1, 1, 1, 1, 1, 1, 1, 1, 1, 1, 1, 1, 1, 1,\n       1, 1, 1, 1, 1, 1, 1, 1, 1, 1, 1, 1, 1, 1, 1, 1, 1, 1, 1, 1, 1, 1,\n       1, 1, 1, 1, 1, 1, 1, 1, 1, 1, 1, 1, 1, 1, 1, 1, 1, 1, 1, 1, 1, 1,\n       1, 1, 1, 1, 1, 1, 1, 1, 1, 1, 1, 1, 1, 1, 1, 1, 1, 1, 1, 1, 1, 1,\n       1, 1, 1, 1, 1, 1, 1, 1, 1, 1, 1, 1, 1, 1, 1, 1, 1, 1, 1, 1, 1, 1,\n       1, 1, 1, 1, 1, 1, 1, 1, 1, 1, 1, 1, 1, 1, 1, 1, 1, 1, 1, 1, 1, 1,\n       1, 1, 1, 1, 1, 1, 1, 1, 1, 1, 1, 1, 1, 1, 1, 1, 1, 1, 1, 1, 1, 1,\n       1, 1, 1, 1, 1, 1, 1, 1, 1, 1, 1, 1, 1, 1, 1, 1, 1, 1, 1, 1, 1, 1,\n       1, 1, 1, 1, 1, 1, 1, 1, 1, 1, 1, 1, 1, 1, 1, 1, 1, 1, 1, 1, 1, 1,\n       1, 1, 1, 1, 1, 1, 1, 1, 1, 1, 1, 1, 1, 1, 1, 1, 1, 1, 1, 1, 1, 1,\n       1, 1, 1, 1, 1, 1, 1, 1, 1, 1, 1, 1, 1, 1, 1, 1, 1, 1, 1, 1, 1, 1,\n       1, 1, 1, 1, 1, 1, 1, 1, 1, 1, 1, 1, 1, 1, 1, 1, 1, 1, 1, 1, 1, 1,\n       1, 1, 1, 1, 1, 1, 1, 1, 1, 1, 1, 1, 1, 1, 1, 1, 1, 1, 1, 1, 1, 1,\n       1, 1, 1, 1, 1, 1, 1, 1, 1, 1, 1, 1, 1, 1, 1, 1, 1, 1, 1, 1, 1, 1,\n       1, 1, 1, 1, 1, 1, 1, 1, 1, 1, 1, 1, 1, 1, 1, 1, 1, 1, 1, 1, 1, 1,\n       1, 0, 0, 0, 0, 0, 0, 0, 0, 0, 0, 0, 0, 0, 0, 0, 0, 0, 0, 0, 0, 0,\n       0, 0, 0, 0, 0, 0, 0, 0, 0, 0, 0, 0, 0, 0, 0, 0, 0, 0, 0, 0, 0, 0,\n       0, 0, 0, 0, 0, 0, 0, 0, 0, 0, 0, 0, 0, 0, 0, 0, 0, 0, 0, 0, 0, 0,\n       0, 0, 0, 0, 0, 0, 0, 0, 0, 0, 0, 0, 0, 0, 0, 0, 0, 0, 0, 0, 0, 0,\n       0, 0, 0, 0, 0, 0, 0, 0, 0, 0, 0, 0, 0, 0, 0, 0, 0, 0, 0, 0, 0, 0,\n       0, 0, 0, 0, 0, 0, 0, 0, 0, 0, 0, 0, 0, 0, 0, 0, 0, 0, 0, 0, 0, 0,\n       0, 0, 0, 0, 0, 0, 0, 0, 0, 0, 0, 0, 0, 0, 0, 0, 0, 0, 0, 0, 0, 0,\n       0, 0, 0, 0, 0, 0, 0, 0, 0, 0, 0, 0, 0, 0, 0, 0, 0, 0, 0, 0, 0, 0,\n       0, 0, 0, 0, 0], dtype=int64)"
     },
     "metadata": {},
     "execution_count": 9
    }
   ],
   "source": [
    "np.array(data['Admitted'])"
   ]
  },
  {
   "cell_type": "code",
   "execution_count": 10,
   "metadata": {},
   "outputs": [
    {
     "output_type": "execute_result",
     "data": {
      "text/plain": "          Predicted 0  Predicted 1\nActual 0         71.0        109.0\nActual 1         39.0        336.0",
      "text/html": "<div>\n<style scoped>\n    .dataframe tbody tr th:only-of-type {\n        vertical-align: middle;\n    }\n\n    .dataframe tbody tr th {\n        vertical-align: top;\n    }\n\n    .dataframe thead th {\n        text-align: right;\n    }\n</style>\n<table border=\"1\" class=\"dataframe\">\n  <thead>\n    <tr style=\"text-align: right;\">\n      <th></th>\n      <th>Predicted 0</th>\n      <th>Predicted 1</th>\n    </tr>\n  </thead>\n  <tbody>\n    <tr>\n      <th>Actual 0</th>\n      <td>71.0</td>\n      <td>109.0</td>\n    </tr>\n    <tr>\n      <th>Actual 1</th>\n      <td>39.0</td>\n      <td>336.0</td>\n    </tr>\n  </tbody>\n</table>\n</div>"
     },
     "metadata": {},
     "execution_count": 10
    }
   ],
   "source": [
    "cmdf = pd.DataFrame(resultsLog.pred_table())\n",
    "cmdf.columns = ['Predicted 0', 'Predicted 1']\n",
    "cmdf = cmdf.rename(index={0:'Actual 0', 1:'Actual 1'})\n",
    "cmdf\n",
    "# confusion matrix"
   ]
  },
  {
   "cell_type": "code",
   "execution_count": 11,
   "metadata": {},
   "outputs": [],
   "source": [
    "# 71 observations the model predicted 0 and it was 0\n",
    "# 109 observations the model predicted 0 and it was 1\n",
    "# 336 observations the model predicted 1 and it was 1\n",
    "# 39 observations the model predicted 1 and it was 0"
   ]
  },
  {
   "cell_type": "markdown",
   "metadata": {},
   "source": [
    "#### Testing"
   ]
  },
  {
   "cell_type": "code",
   "execution_count": 16,
   "metadata": {},
   "outputs": [
    {
     "output_type": "execute_result",
     "data": {
      "text/plain": "    Points  Admitted\n0    83.33         1\n1    83.88         1\n2    79.48         1\n3    78.80         1\n4    72.80         1\n5    73.20         1\n6    69.12         1\n7    66.76         1\n8    59.15         1\n9    56.12         1\n10   30.88         0\n11   39.68         0\n12   44.68         0\n13   50.08         0\n14   50.52         0\n15   44.68         1\n16   45.96         0",
      "text/html": "<div>\n<style scoped>\n    .dataframe tbody tr th:only-of-type {\n        vertical-align: middle;\n    }\n\n    .dataframe tbody tr th {\n        vertical-align: top;\n    }\n\n    .dataframe thead th {\n        text-align: right;\n    }\n</style>\n<table border=\"1\" class=\"dataframe\">\n  <thead>\n    <tr style=\"text-align: right;\">\n      <th></th>\n      <th>Points</th>\n      <th>Admitted</th>\n    </tr>\n  </thead>\n  <tbody>\n    <tr>\n      <th>0</th>\n      <td>83.33</td>\n      <td>1</td>\n    </tr>\n    <tr>\n      <th>1</th>\n      <td>83.88</td>\n      <td>1</td>\n    </tr>\n    <tr>\n      <th>2</th>\n      <td>79.48</td>\n      <td>1</td>\n    </tr>\n    <tr>\n      <th>3</th>\n      <td>78.80</td>\n      <td>1</td>\n    </tr>\n    <tr>\n      <th>4</th>\n      <td>72.80</td>\n      <td>1</td>\n    </tr>\n    <tr>\n      <th>5</th>\n      <td>73.20</td>\n      <td>1</td>\n    </tr>\n    <tr>\n      <th>6</th>\n      <td>69.12</td>\n      <td>1</td>\n    </tr>\n    <tr>\n      <th>7</th>\n      <td>66.76</td>\n      <td>1</td>\n    </tr>\n    <tr>\n      <th>8</th>\n      <td>59.15</td>\n      <td>1</td>\n    </tr>\n    <tr>\n      <th>9</th>\n      <td>56.12</td>\n      <td>1</td>\n    </tr>\n    <tr>\n      <th>10</th>\n      <td>30.88</td>\n      <td>0</td>\n    </tr>\n    <tr>\n      <th>11</th>\n      <td>39.68</td>\n      <td>0</td>\n    </tr>\n    <tr>\n      <th>12</th>\n      <td>44.68</td>\n      <td>0</td>\n    </tr>\n    <tr>\n      <th>13</th>\n      <td>50.08</td>\n      <td>0</td>\n    </tr>\n    <tr>\n      <th>14</th>\n      <td>50.52</td>\n      <td>0</td>\n    </tr>\n    <tr>\n      <th>15</th>\n      <td>44.68</td>\n      <td>1</td>\n    </tr>\n    <tr>\n      <th>16</th>\n      <td>45.96</td>\n      <td>0</td>\n    </tr>\n  </tbody>\n</table>\n</div>"
     },
     "metadata": {},
     "execution_count": 16
    }
   ],
   "source": [
    "test = pd.read_excel('E:\\\\PythonDevelopment\\\\logisticRegression\\\\source\\\\testing/testing.xlsx')\n",
    "test"
   ]
  },
  {
   "cell_type": "code",
   "execution_count": 19,
   "metadata": {},
   "outputs": [
    {
     "output_type": "execute_result",
     "data": {
      "text/plain": "    const  Points\n0     1.0   83.33\n1     1.0   83.88\n2     1.0   79.48\n3     1.0   78.80\n4     1.0   72.80\n5     1.0   73.20\n6     1.0   69.12\n7     1.0   66.76\n8     1.0   59.15\n9     1.0   56.12\n10    1.0   30.88\n11    1.0   39.68\n12    1.0   44.68\n13    1.0   50.08\n14    1.0   50.52\n15    1.0   44.68\n16    1.0   45.96",
      "text/html": "<div>\n<style scoped>\n    .dataframe tbody tr th:only-of-type {\n        vertical-align: middle;\n    }\n\n    .dataframe tbody tr th {\n        vertical-align: top;\n    }\n\n    .dataframe thead th {\n        text-align: right;\n    }\n</style>\n<table border=\"1\" class=\"dataframe\">\n  <thead>\n    <tr style=\"text-align: right;\">\n      <th></th>\n      <th>const</th>\n      <th>Points</th>\n    </tr>\n  </thead>\n  <tbody>\n    <tr>\n      <th>0</th>\n      <td>1.0</td>\n      <td>83.33</td>\n    </tr>\n    <tr>\n      <th>1</th>\n      <td>1.0</td>\n      <td>83.88</td>\n    </tr>\n    <tr>\n      <th>2</th>\n      <td>1.0</td>\n      <td>79.48</td>\n    </tr>\n    <tr>\n      <th>3</th>\n      <td>1.0</td>\n      <td>78.80</td>\n    </tr>\n    <tr>\n      <th>4</th>\n      <td>1.0</td>\n      <td>72.80</td>\n    </tr>\n    <tr>\n      <th>5</th>\n      <td>1.0</td>\n      <td>73.20</td>\n    </tr>\n    <tr>\n      <th>6</th>\n      <td>1.0</td>\n      <td>69.12</td>\n    </tr>\n    <tr>\n      <th>7</th>\n      <td>1.0</td>\n      <td>66.76</td>\n    </tr>\n    <tr>\n      <th>8</th>\n      <td>1.0</td>\n      <td>59.15</td>\n    </tr>\n    <tr>\n      <th>9</th>\n      <td>1.0</td>\n      <td>56.12</td>\n    </tr>\n    <tr>\n      <th>10</th>\n      <td>1.0</td>\n      <td>30.88</td>\n    </tr>\n    <tr>\n      <th>11</th>\n      <td>1.0</td>\n      <td>39.68</td>\n    </tr>\n    <tr>\n      <th>12</th>\n      <td>1.0</td>\n      <td>44.68</td>\n    </tr>\n    <tr>\n      <th>13</th>\n      <td>1.0</td>\n      <td>50.08</td>\n    </tr>\n    <tr>\n      <th>14</th>\n      <td>1.0</td>\n      <td>50.52</td>\n    </tr>\n    <tr>\n      <th>15</th>\n      <td>1.0</td>\n      <td>44.68</td>\n    </tr>\n    <tr>\n      <th>16</th>\n      <td>1.0</td>\n      <td>45.96</td>\n    </tr>\n  </tbody>\n</table>\n</div>"
     },
     "metadata": {},
     "execution_count": 19
    }
   ],
   "source": [
    "testActual = test['Admitted']\n",
    "testData = test.drop(['Admitted'], axis=1)\n",
    "testData = sm.add_constant(testData)\n",
    "testData\n"
   ]
  },
  {
   "cell_type": "code",
   "execution_count": 21,
   "metadata": {},
   "outputs": [],
   "source": [
    "def ConfusionMatrix(data, actualValues, model):\n",
    "    predValues = model.predict(data)\n",
    "    bins = np.array([0, 0.5, 1])\n",
    "    cm = np.histogram2d(actualValues, predValues, bins = bins)[0]\n",
    "    accuracy = (cm[0,0] + cm[1,1]) / cm.sum()\n",
    "    return cm, accuracy\n"
   ]
  },
  {
   "cell_type": "code",
   "execution_count": 22,
   "metadata": {},
   "outputs": [
    {
     "output_type": "execute_result",
     "data": {
      "text/plain": "(array([[ 6.,  0.],\n        [ 1., 10.]]),\n 0.9411764705882353)"
     },
     "metadata": {},
     "execution_count": 22
    }
   ],
   "source": [
    "cm = ConfusionMatrix(testData, testActual, resultsLog)\n",
    "cm"
   ]
  },
  {
   "cell_type": "code",
   "execution_count": null,
   "metadata": {},
   "outputs": [],
   "source": []
  }
 ],
 "metadata": {
  "language_info": {
   "codemirror_mode": {
    "name": "ipython",
    "version": 3
   },
   "file_extension": ".py",
   "mimetype": "text/x-python",
   "name": "python",
   "nbconvert_exporter": "python",
   "pygments_lexer": "ipython3",
   "version": "3.8.3-final"
  },
  "orig_nbformat": 2,
  "kernelspec": {
   "name": "python3",
   "display_name": "Python 3"
  }
 },
 "nbformat": 4,
 "nbformat_minor": 2
}