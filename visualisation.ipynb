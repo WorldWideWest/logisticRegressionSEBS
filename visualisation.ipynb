{
 "metadata": {
  "language_info": {
   "codemirror_mode": {
    "name": "ipython",
    "version": 3
   },
   "file_extension": ".py",
   "mimetype": "text/x-python",
   "name": "python",
   "nbconvert_exporter": "python",
   "pygments_lexer": "ipython3",
   "version": "3.8.3-final"
  },
  "orig_nbformat": 2,
  "kernelspec": {
   "name": "python3",
   "display_name": "Python 3"
  }
 },
 "nbformat": 4,
 "nbformat_minor": 2,
 "cells": [
  {
   "cell_type": "code",
   "execution_count": 2,
   "metadata": {},
   "outputs": [],
   "source": [
    "import pandas as pd\n",
    "import matplotlib.pyplot as plt\n",
    "import seaborn as sns\n",
    "sns.set()"
   ]
  },
  {
   "cell_type": "code",
   "execution_count": 6,
   "metadata": {},
   "outputs": [
    {
     "output_type": "execute_result",
     "data": {
      "text/plain": "           Ekonomija DL   1\n0         Ekonomija RED  31\n1        Ekonomija REDS  38\n2        Ekonomija Fail  29\n3         Menadzment DL  20\n4        Menadzment RED  30\n5       Menadzment REDS  90\n6       Menadzment Fail  89\n7                VPS DL  25\n8               VPS RED  30\n9              VPS REDS  38\n10             VPS Fail  28\n11   Menadzment eng RED  10\n12  Menadzment eng REDS  48\n13  Menadzment eng Fail  17\n14              IT REDS   4\n15              IT Fail  16\n16         Grifith REDS   5\n17         Grifith Fail   5",
      "text/html": "<div>\n<style scoped>\n    .dataframe tbody tr th:only-of-type {\n        vertical-align: middle;\n    }\n\n    .dataframe tbody tr th {\n        vertical-align: top;\n    }\n\n    .dataframe thead th {\n        text-align: right;\n    }\n</style>\n<table border=\"1\" class=\"dataframe\">\n  <thead>\n    <tr style=\"text-align: right;\">\n      <th></th>\n      <th>Ekonomija DL</th>\n      <th>1</th>\n    </tr>\n  </thead>\n  <tbody>\n    <tr>\n      <th>0</th>\n      <td>Ekonomija RED</td>\n      <td>31</td>\n    </tr>\n    <tr>\n      <th>1</th>\n      <td>Ekonomija REDS</td>\n      <td>38</td>\n    </tr>\n    <tr>\n      <th>2</th>\n      <td>Ekonomija Fail</td>\n      <td>29</td>\n    </tr>\n    <tr>\n      <th>3</th>\n      <td>Menadzment DL</td>\n      <td>20</td>\n    </tr>\n    <tr>\n      <th>4</th>\n      <td>Menadzment RED</td>\n      <td>30</td>\n    </tr>\n    <tr>\n      <th>5</th>\n      <td>Menadzment REDS</td>\n      <td>90</td>\n    </tr>\n    <tr>\n      <th>6</th>\n      <td>Menadzment Fail</td>\n      <td>89</td>\n    </tr>\n    <tr>\n      <th>7</th>\n      <td>VPS DL</td>\n      <td>25</td>\n    </tr>\n    <tr>\n      <th>8</th>\n      <td>VPS RED</td>\n      <td>30</td>\n    </tr>\n    <tr>\n      <th>9</th>\n      <td>VPS REDS</td>\n      <td>38</td>\n    </tr>\n    <tr>\n      <th>10</th>\n      <td>VPS Fail</td>\n      <td>28</td>\n    </tr>\n    <tr>\n      <th>11</th>\n      <td>Menadzment eng RED</td>\n      <td>10</td>\n    </tr>\n    <tr>\n      <th>12</th>\n      <td>Menadzment eng REDS</td>\n      <td>48</td>\n    </tr>\n    <tr>\n      <th>13</th>\n      <td>Menadzment eng Fail</td>\n      <td>17</td>\n    </tr>\n    <tr>\n      <th>14</th>\n      <td>IT REDS</td>\n      <td>4</td>\n    </tr>\n    <tr>\n      <th>15</th>\n      <td>IT Fail</td>\n      <td>16</td>\n    </tr>\n    <tr>\n      <th>16</th>\n      <td>Grifith REDS</td>\n      <td>5</td>\n    </tr>\n    <tr>\n      <th>17</th>\n      <td>Grifith Fail</td>\n      <td>5</td>\n    </tr>\n  </tbody>\n</table>\n</div>"
     },
     "metadata": {},
     "execution_count": 6
    }
   ],
   "source": [
    "data = pd.read_excel('source/visualisationData/count.xlsx')\n",
    "data"
   ]
  },
  {
   "cell_type": "markdown",
   "metadata": {},
   "source": [
    "#### Ekonomija"
   ]
  },
  {
   "cell_type": "code",
   "execution_count": null,
   "metadata": {},
   "outputs": [],
   "source": [
    "plt.bar(data[])"
   ]
  }
 ]
}